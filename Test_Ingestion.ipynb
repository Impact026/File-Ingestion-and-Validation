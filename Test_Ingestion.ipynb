{
 "cells": [
  {
   "cell_type": "code",
   "execution_count": 2,
   "id": "800e4839",
   "metadata": {},
   "outputs": [
    {
     "name": "stderr",
     "output_type": "stream",
     "text": [
      "C:\\Users\\Owner\\anaconda3\\lib\\site-packages\\dask\\dataframe\\__init__.py:42: FutureWarning: \n",
      "Dask dataframe query planning is disabled because dask-expr is not installed.\n",
      "\n",
      "You can install it with `pip install dask[dataframe]` or `conda install dask`.\n",
      "This will raise in a future version.\n",
      "\n",
      "  warnings.warn(msg, FutureWarning)\n",
      "2024-10-12 21:31:03,804\tINFO util.py:154 -- Outdated packages:\n",
      "  ipywidgets==7.6.5 found, needs ipywidgets>=8\n",
      "Run `pip install -U ipywidgets`, then restart the notebook server for rich notebook output.\n"
     ]
    }
   ],
   "source": [
    "import pandas as pd\n",
    "import dask.dataframe as dd\n",
    "import modin.pandas as mpd\n",
    "import ray \n",
    "import time\n",
    "import yaml\n",
    "import os"
   ]
  },
  {
   "cell_type": "code",
   "execution_count": 5,
   "id": "2be4a54a",
   "metadata": {},
   "outputs": [
    {
     "name": "stdout",
     "output_type": "stream",
     "text": [
      "Panda read time: 0.9873108863830566\n",
      "Dask read time: 0.042818546295166016\n"
     ]
    },
    {
     "name": "stderr",
     "output_type": "stream",
     "text": [
      "2024-10-12 21:34:36,085\tINFO worker.py:1786 -- Started a local Ray instance.\n",
      "2024-10-12 21:34:40,832\tINFO util.py:154 -- Outdated packages:\n",
      "  ipywidgets==7.6.5 found, needs ipywidgets>=8\n",
      "Run `pip install -U ipywidgets`, then restart the notebook server for rich notebook output.\n"
     ]
    },
    {
     "name": "stdout",
     "output_type": "stream",
     "text": [
      "Modin read time: 11.51427936553955\n"
     ]
    },
    {
     "name": "stderr",
     "output_type": "stream",
     "text": [
      "UserWarning: `read_*` implementation has mismatches with pandas:\n",
      "Data types of partitions are different! Please refer to the troubleshooting section of the Modin documentation to fix this issue.\n"
     ]
    }
   ],
   "source": [
    "df_pandas = pd.read_csv(\"C:/Users/Owner/OneDrive/Desktop/E1006/Codes/Electric_Vehicle_Population_Data.csv\")\n",
    "\n",
    "df_dask = dd.read_csv(\"C:/Users/Owner/OneDrive/Desktop/E1006/Codes/Electric_Vehicle_Population_Data.csv\")\n",
    "\n",
    "#df_modin = mpd.read_csv(\"C:/Users/Owner/OneDrive/Desktop/E1006/Codes/Electric_Vehicle_Population_Data.csv\")\n",
    "\n",
    "start_time = time.time()\n",
    "df_pandas = pd.read_csv(\"C:/Users/Owner/OneDrive/Desktop/E1006/Codes/Electric_Vehicle_Population_Data.csv\")\n",
    "print(\"Panda read time:\", time.time() - start_time)\n",
    "\n",
    "start_time = time.time()\n",
    "df_dask = dd.read_csv(\"C:/Users/Owner/OneDrive/Desktop/E1006/Codes/Electric_Vehicle_Population_Data.csv\")\n",
    "print(\"Dask read time:\", time.time() - start_time)\n",
    "\n",
    "start_time = time.time()\n",
    "df_modin = mpd.read_csv(\"C:/Users/Owner/OneDrive/Desktop/E1006/Codes/Electric_Vehicle_Population_Data.csv\")\n",
    "print(\"Modin read time:\", time.time() - start_time)"
   ]
  },
  {
   "cell_type": "code",
   "execution_count": 6,
   "id": "ad7db4fa",
   "metadata": {},
   "outputs": [
    {
     "name": "stdout",
     "output_type": "stream",
     "text": [
      "VIN (1-10)                                             0\n",
      "County                                                 3\n",
      "City                                                   3\n",
      "State                                                  0\n",
      "Postal Code                                            3\n",
      "Model Year                                             0\n",
      "Make                                                   0\n",
      "Model                                                  1\n",
      "Electric Vehicle Type                                  0\n",
      "Clean Alternative Fuel Vehicle (CAFV) Eligibility      0\n",
      "Electric Range                                         8\n",
      "Base MSRP                                              8\n",
      "Legislative District                                 442\n",
      "DOL Vehicle ID                                         0\n",
      "Vehicle Location                                       8\n",
      "Electric Utility                                       3\n",
      "2020 Census Tract                                      3\n",
      "dtype: int64 \n",
      " Empty DataFrame\n",
      "Columns: [VIN (1-10), County, City, State, Postal Code, Model Year, Make, Model, Electric Vehicle Type, Clean Alternative Fuel Vehicle (CAFV) Eligibility, Electric Range, Base MSRP, Legislative District, DOL Vehicle ID, Vehicle Location, Electric Utility, 2020 Census Tract]\n",
      "Index: []\n",
      "['VIN (1-10)', 'County', 'City', 'State', 'Postal Code', 'Model Year', 'Make', 'Model', 'Electric Vehicle Type', 'Clean Alternative Fuel Vehicle (CAFV) Eligibility', 'Electric Range', 'Base MSRP', 'Legislative District', 'DOL Vehicle ID', 'Vehicle Location', 'Electric Utility', '2020 Census Tract']\n"
     ]
    }
   ],
   "source": [
    "df_pandas = pd.read_csv(\"C:/Users/Owner/OneDrive/Desktop/E1006/Codes/Electric_Vehicle_Population_Data.csv\")\n",
    "\n",
    "df_columns = df_pandas.columns.str.replace(\"[^a-zA-Z0-9]+\", \"-\")\n",
    "\n",
    "df_columns = df_columns.str.strip().str.lower()\n",
    "\n",
    "missing_values = df_pandas.isnull().sum()\n",
    "\n",
    "double = df_pandas[df_pandas.duplicated()]\n",
    "\n",
    "print(missing_values, \"\\n\", double)\n",
    "\n",
    "every_column = df_pandas.columns.tolist()\n",
    "\n",
    "print(every_column)"
   ]
  },
  {
   "cell_type": "code",
   "execution_count": 9,
   "id": "453ac0c3",
   "metadata": {},
   "outputs": [
    {
     "name": "stdout",
     "output_type": "stream",
     "text": [
      "Error: Number of columns in the file doesn't match the schema.\n"
     ]
    }
   ],
   "source": [
    "with open(\"C:/Users/Owner/OneDrive/Desktop/E1006/Codes/file.yaml\", 'r') as file:\n",
    "    schema = yaml.safe_load(file)\n",
    "\n",
    "if 'columns' not in schema:\n",
    "    print(\"Error: Invalid schema file. 'columns' key is missing.\")\n",
    "elif not isinstance(schema['columns'], list):\n",
    "    print(\"Error: Invalid schema file. 'columns' value should be a list.\")\n",
    "else:\n",
    "    if len(df_pandas.columns) != len(schema['columns']):\n",
    "        print(\"Error: Number of columns in the file doesn't match the schema.\")\n",
    "    else:\n",
    "        for i, col in enumerate(df_pandas.columns):\n",
    "            if col != schema['columns'][i]:\n",
    "                print(f\"Error: Column {i+1} doesn't match the schema.\")\n"
   ]
  },
  {
   "cell_type": "code",
   "execution_count": 10,
   "id": "ba00c784",
   "metadata": {},
   "outputs": [],
   "source": [
    "subset_df = df_pandas.iloc[:1000]  # selecting the first 1000 rows, since full size is taking too long to compute\n",
    "subset_df.to_csv('output_file.csv.gz', sep='|', compression='gzip', index=False)"
   ]
  },
  {
   "cell_type": "code",
   "execution_count": 12,
   "id": "10e69b0d",
   "metadata": {},
   "outputs": [
    {
     "name": "stdout",
     "output_type": "stream",
     "text": [
      "Total Rows =  205439 \n",
      " Total Columns =  17 \n",
      " File Size =  30723\n"
     ]
    }
   ],
   "source": [
    "total_rows = len(df_pandas)\n",
    "total_columns = len(df_pandas.columns)\n",
    "file_size = os.path.getsize(\"output_file.csv.gz\")\n",
    "\n",
    "\n",
    "print(\"Total Rows = \", total_rows, \"\\n\", \"Total Columns = \", total_columns, \"\\n\", \"File Size = \", file_size)"
   ]
  },
  {
   "cell_type": "code",
   "execution_count": null,
   "id": "fe2a597c",
   "metadata": {},
   "outputs": [],
   "source": []
  }
 ],
 "metadata": {
  "kernelspec": {
   "display_name": "Python 3 (ipykernel)",
   "language": "python",
   "name": "python3"
  },
  "language_info": {
   "codemirror_mode": {
    "name": "ipython",
    "version": 3
   },
   "file_extension": ".py",
   "mimetype": "text/x-python",
   "name": "python",
   "nbconvert_exporter": "python",
   "pygments_lexer": "ipython3",
   "version": "3.10.9"
  }
 },
 "nbformat": 4,
 "nbformat_minor": 5
}
